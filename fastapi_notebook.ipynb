{
 "cells": [
  {
   "cell_type": "markdown",
   "id": "e2f62630",
   "metadata": {},
   "source": [
    "# Project Overview\n",
    "\n",
    "This notebook builds a REST API with FastAPI that supports user registration, login, logout, a protected endpoint to search for nearby restaurants, and a transaction listing endpoint."
   ]
  },
  {
   "cell_type": "markdown",
   "id": "2878f17a",
   "metadata": {},
   "source": [
    "### Install Required Packages\n",
    "\n",
    "This cell installs all the Python packages needed for the FastAPI app, including FastAPI, Uvicorn (for serving), SQLAlchemy (ORM), passlib (password hashing), and httpx (HTTP requests)."
   ]
  },
  {
   "cell_type": "code",
   "execution_count": 4,
   "id": "0e566b38",
   "metadata": {},
   "outputs": [
    {
     "name": "stderr",
     "output_type": "stream",
     "text": [
      "'pip' is not recognized as an internal or external command,\n",
      "operable program or batch file.\n"
     ]
    }
   ],
   "source": [
    "# Install all required packages for FastAPI, including python-jose for JWT support\n",
    "!pip install fastapi uvicorn[standard] python-multipart passlib[bcrypt] sqlalchemy httpx python-jose"
   ]
  },
  {
   "cell_type": "markdown",
   "id": "100306d2",
   "metadata": {},
   "source": [
    "### Import Libraries\n",
    "\n",
    "This cell imports all the necessary libraries for building the API, handling authentication, database operations, and making HTTP requests."
   ]
  },
  {
   "cell_type": "code",
   "execution_count": 2,
   "id": "891a827b",
   "metadata": {},
   "outputs": [
    {
     "ename": "ModuleNotFoundError",
     "evalue": "No module named 'fastapi'",
     "output_type": "error",
     "traceback": [
      "\u001b[31m---------------------------------------------------------------------------\u001b[39m",
      "\u001b[31mModuleNotFoundError\u001b[39m                       Traceback (most recent call last)",
      "\u001b[36mCell\u001b[39m\u001b[36m \u001b[39m\u001b[32mIn[2]\u001b[39m\u001b[32m, line 1\u001b[39m\n\u001b[32m----> \u001b[39m\u001b[32m1\u001b[39m \u001b[38;5;28;01mfrom\u001b[39;00m\u001b[38;5;250m \u001b[39m\u001b[34;01mfastapi\u001b[39;00m\u001b[38;5;250m \u001b[39m\u001b[38;5;28;01mimport\u001b[39;00m FastAPI, Depends, HTTPException, status, Request\n\u001b[32m      2\u001b[39m \u001b[38;5;28;01mfrom\u001b[39;00m\u001b[38;5;250m \u001b[39m\u001b[34;01mfastapi\u001b[39;00m\u001b[34;01m.\u001b[39;00m\u001b[34;01msecurity\u001b[39;00m\u001b[38;5;250m \u001b[39m\u001b[38;5;28;01mimport\u001b[39;00m OAuth2PasswordBearer, OAuth2PasswordRequestForm\n\u001b[32m      3\u001b[39m \u001b[38;5;28;01mfrom\u001b[39;00m\u001b[38;5;250m \u001b[39m\u001b[34;01mfastapi\u001b[39;00m\u001b[34;01m.\u001b[39;00m\u001b[34;01mmiddleware\u001b[39;00m\u001b[34;01m.\u001b[39;00m\u001b[34;01mcors\u001b[39;00m\u001b[38;5;250m \u001b[39m\u001b[38;5;28;01mimport\u001b[39;00m CORSMiddleware\n",
      "\u001b[31mModuleNotFoundError\u001b[39m: No module named 'fastapi'"
     ]
    }
   ],
   "source": [
    "from fastapi import FastAPI, Depends, HTTPException, status, Request\n",
    "from fastapi.security import OAuth2PasswordBearer, OAuth2PasswordRequestForm\n",
    "from fastapi.middleware.cors import CORSMiddleware\n",
    "from sqlalchemy import create_engine, Column, Integer, String, Float, DateTime, ForeignKey\n",
    "from sqlalchemy.ext.declarative import declarative_base\n",
    "from sqlalchemy.orm import sessionmaker, relationship, Session\n",
    "from passlib.context import CryptContext\n",
    "from jose import JWTError, jwt\n",
    "from datetime import datetime, timedelta\n",
    "import httpx"
   ]
  },
  {
   "cell_type": "markdown",
   "id": "6b4399c8",
   "metadata": {},
   "source": [
    "### Database Setup\n",
    "\n",
    "This cell configures the SQLite database using SQLAlchemy, sets up the engine, session, and base class for models."
   ]
  },
  {
   "cell_type": "code",
   "execution_count": null,
   "id": "5004e628",
   "metadata": {},
   "outputs": [],
   "source": [
    "DATABASE_URL = \"sqlite:///./test.db\"\n",
    "engine = create_engine(DATABASE_URL, connect_args={\"check_same_thread\": False})\n",
    "SessionLocal = sessionmaker(autocommit=False, autoflush=False, bind=engine)\n",
    "Base = declarative_base()"
   ]
  },
  {
   "cell_type": "markdown",
   "id": "06e3061b",
   "metadata": {},
   "source": [
    "### Define Database Models\n",
    "\n",
    "This cell defines the `User` and `Transaction` models for storing user credentials and transaction logs in the database."
   ]
  },
  {
   "cell_type": "code",
   "execution_count": null,
   "id": "08a937fb",
   "metadata": {},
   "outputs": [],
   "source": [
    "class User(Base):\n",
    "    __tablename__ = \"users\"\n",
    "    id = Column(Integer, primary_key=True, index=True)\n",
    "    username = Column(String, unique=True, index=True)\n",
    "    hashed_password = Column(String)\n",
    "\n",
    "class Transaction(Base):\n",
    "    __tablename__ = \"transactions\"\n",
    "    id = Column(Integer, primary_key=True, index=True)\n",
    "    user_id = Column(Integer, ForeignKey(\"users.id\"))\n",
    "    query = Column(String)\n",
    "    timestamp = Column(DateTime, default=datetime.utcnow)\n",
    "    user = relationship(\"User\")"
   ]
  },
  {
   "cell_type": "markdown",
   "id": "971d2aaa",
   "metadata": {},
   "source": [
    "### Create Database Tables\n",
    "\n",
    "This cell creates the tables in the SQLite database based on the defined models."
   ]
  },
  {
   "cell_type": "code",
   "execution_count": null,
   "id": "a270d655",
   "metadata": {},
   "outputs": [],
   "source": [
    "Base.metadata.create_all(bind=engine)"
   ]
  },
  {
   "cell_type": "markdown",
   "id": "c20d57d6",
   "metadata": {},
   "source": [
    "### Authentication and Utility Functions\n",
    "\n",
    "This cell sets up password hashing, JWT token creation, and helper functions for user authentication and retrieval."
   ]
  },
  {
   "cell_type": "code",
   "execution_count": null,
   "id": "b2bd36b2",
   "metadata": {},
   "outputs": [],
   "source": [
    "SECRET_KEY = \"your-secret\"\n",
    "ALGORITHM = \"HS256\"\n",
    "ACCESS_TOKEN_EXPIRE_MINUTES = 30\n",
    "\n",
    "pwd_context = CryptContext(schemes=[\"bcrypt\"], deprecated=\"auto\")\n",
    "oauth2_scheme = OAuth2PasswordBearer(tokenUrl=\"token\")\n",
    "\n",
    "def get_db():\n",
    "    db = SessionLocal()\n",
    "    try:\n",
    "        yield db\n",
    "    finally:\n",
    "        db.close()\n",
    "\n",
    "def verify_password(plain_password, hashed_password):\n",
    "    return pwd_context.verify(plain_password, hashed_password)\n",
    "\n",
    "def get_password_hash(password):\n",
    "    return pwd_context.hash(password)\n",
    "\n",
    "def create_access_token(data: dict, expires_delta: timedelta = None):\n",
    "    to_encode = data.copy()\n",
    "    expire = datetime.utcnow() + (expires_delta or timedelta(minutes=15))\n",
    "    to_encode.update({\"exp\": expire})\n",
    "    return jwt.encode(to_encode, SECRET_KEY, algorithm=ALGORITHM)\n",
    "\n",
    "def get_user(db, username: str):\n",
    "    return db.query(User).filter(User.username == username).first()\n",
    "\n",
    "def authenticate_user(db, username: str, password: str):\n",
    "    user = get_user(db, username)\n",
    "    if not user or not verify_password(password, user.hashed_password):\n",
    "        return False\n",
    "    return user\n",
    "\n",
    "def get_current_user(db: Session = Depends(get_db), token: str = Depends(oauth2_scheme)):\n",
    "    credentials_exception = HTTPException(\n",
    "        status_code=status.HTTP_401_UNAUTHORIZED,\n",
    "        detail=\"Could not validate credentials\",\n",
    "        headers={\"WWW-Authenticate\": \"Bearer\"},\n",
    "    )\n",
    "    try:\n",
    "        payload = jwt.decode(token, SECRET_KEY, algorithms=[ALGORITHM])\n",
    "        username: str = payload.get(\"sub\")\n",
    "        if username is None:\n",
    "            raise credentials_exception\n",
    "    except JWTError:\n",
    "        raise credentials_exception\n",
    "    user = get_user(db, username)\n",
    "    if user is None:\n",
    "        raise credentials_exception\n",
    "    return user"
   ]
  },
  {
   "cell_type": "markdown",
   "id": "017c114e",
   "metadata": {},
   "source": [
    "### FastAPI App Setup\n",
    "\n",
    "This cell initializes the FastAPI app and configures CORS middleware to allow cross-origin requests."
   ]
  },
  {
   "cell_type": "code",
   "execution_count": null,
   "id": "0b643d2b",
   "metadata": {},
   "outputs": [],
   "source": [
    "app = FastAPI()\n",
    "app.add_middleware(\n",
    "    CORSMiddleware,\n",
    "    allow_origins=[\"*\"],\n",
    "    allow_credentials=True,\n",
    "    allow_methods=[\"*\"],\n",
    "    allow_headers=[\"*\"],\n",
    ")"
   ]
  },
  {
   "cell_type": "markdown",
   "id": "b4aacf8a",
   "metadata": {},
   "source": [
    "### User Registration Endpoint\n",
    "\n",
    "This cell implements the `/register` endpoint, allowing new users to sign up with a username and password."
   ]
  },
  {
   "cell_type": "code",
   "execution_count": null,
   "id": "d5304cf7",
   "metadata": {},
   "outputs": [],
   "source": [
    "@app.post(\"/register\")\n",
    "def register(form_data: OAuth2PasswordRequestForm = Depends(), db: Session = Depends(get_db)):\n",
    "    user = get_user(db, form_data.username)\n",
    "    if user:\n",
    "        raise HTTPException(status_code=400, detail=\"Username already registered\")\n",
    "    hashed_password = get_password_hash(form_data.password)\n",
    "    new_user = User(username=form_data.username, hashed_password=hashed_password)\n",
    "    db.add(new_user)\n",
    "    db.commit()\n",
    "    db.refresh(new_user)\n",
    "    return {\"msg\": \"User registered successfully\"}"
   ]
  },
  {
   "cell_type": "markdown",
   "id": "212e5ee7",
   "metadata": {},
   "source": [
    "### User Login Endpoint\n",
    "\n",
    "This cell implements the `/token` endpoint, allowing users to log in and receive a JWT access token."
   ]
  },
  {
   "cell_type": "code",
   "execution_count": null,
   "id": "009af805",
   "metadata": {},
   "outputs": [],
   "source": [
    "@app.post(\"/token\")\n",
    "def login(form_data: OAuth2PasswordRequestForm = Depends(), db: Session = Depends(get_db)):\n",
    "    user = authenticate_user(db, form_data.username, form_data.password)\n",
    "    if not user:\n",
    "        raise HTTPException(status_code=400, detail=\"Incorrect username or password\")\n",
    "    access_token = create_access_token(data={\"sub\": user.username}, expires_delta=timedelta(minutes=ACCESS_TOKEN_EXPIRE_MINUTES))\n",
    "    return {\"access_token\": access_token, \"token_type\": \"bearer\"}"
   ]
  },
  {
   "cell_type": "markdown",
   "id": "65cff32a",
   "metadata": {},
   "source": [
    "### User Logout Endpoint\n",
    "\n",
    "This cell implements the `/logout` endpoint. Since JWT is stateless, logout is handled on the client side by removing the token."
   ]
  },
  {
   "cell_type": "code",
   "execution_count": null,
   "id": "6d8d0da7",
   "metadata": {},
   "outputs": [],
   "source": [
    "@app.post(\"/logout\")\n",
    "def logout():\n",
    "    return {\"msg\": \"Logout successful. Remove token on client side.\"}"
   ]
  },
  {
   "cell_type": "markdown",
   "id": "ae597c94",
   "metadata": {},
   "source": [
    "### Protected Restaurant Search Endpoint\n",
    "\n",
    "This cell implements the `/restaurants` endpoint, which allows authenticated users to search for nearby restaurants by city or coordinates using public APIs."
   ]
  },
  {
   "cell_type": "code",
   "execution_count": null,
   "id": "32cc4d14",
   "metadata": {},
   "outputs": [],
   "source": [
    "@app.get(\"/restaurants\")\n",
    "async def get_restaurants(\n",
    "    city: str = None,\n",
    "    lat: float = None,\n",
    "    lon: float = None,\n",
    "    current_user: User = Depends(get_current_user),\n",
    "    db: Session = Depends(get_db)\n",
    "):\n",
    "    if city:\n",
    "        # Use Nominatim to get coordinates from city name\n",
    "        async with httpx.AsyncClient() as client:\n",
    "            resp = await client.get(f\"https://nominatim.openstreetmap.org/search\", params={\"q\": city, \"format\": \"json\"})\n",
    "            data = resp.json()\n",
    "            if not data:\n",
    "                raise HTTPException(status_code=404, detail=\"City not found\")\n",
    "            lat, lon = float(data[0][\"lat\"]), float(data[0][\"lon\"])\n",
    "    if lat is None or lon is None:\n",
    "        raise HTTPException(status_code=400, detail=\"Provide city or coordinates\")\n",
    "    # Use OpenStreetMap Overpass API to find restaurants\n",
    "    overpass_url = \"http://overpass-api.de/api/interpreter\"\n",
    "    query = f\"\n",
    "\n",
    "    [out:json];\n",
    "    node\n",
    "      [amenity=restaurant]\n",
    "      (around:3000,{lat},{lon});\n",
    "    out;\n",
    "    \"\n",
    "\n",
    "    async with httpx.AsyncClient() as client:\n",
    "        resp = await client.post(overpass_url, data=query)\n",
    "        restaurants = resp.json().get(\"elements\", [])\n",
    "    # Log transaction\n",
    "    db.add(Transaction(user_id=current_user.id, query=f\"{lat},{lon}\"))\n",
    "    db.commit()\n",
    "    return [{\"name\": r.get(\"tags\", {}).get(\"name\", \"Unknown\"), \"lat\": r[\"lat\"], \"lon\": r[\"lon\"]} for r in restaurants]"
   ]
  },
  {
   "cell_type": "markdown",
   "id": "fdf70205",
   "metadata": {},
   "source": [
    "### List Transactions Endpoint\n",
    "\n",
    "This cell implements the `/transactions` endpoint, allowing users to view their transaction history."
   ]
  },
  {
   "cell_type": "code",
   "execution_count": null,
   "id": "ef330fb4",
   "metadata": {},
   "outputs": [],
   "source": [
    "@app.get(\"/transactions\")\n",
    "def list_transactions(current_user: User = Depends(get_current_user), db: Session = Depends(get_db)):\n",
    "    txs = db.query(Transaction).filter(Transaction.user_id == current_user.id).all()\n",
    "    return [{\"id\": t.id, \"query\": t.query, \"timestamp\": t.timestamp.isoformat()} for t in txs]"
   ]
  },
  {
   "cell_type": "markdown",
   "id": "98797e49",
   "metadata": {},
   "source": [
    "### Run the FastAPI App\n",
    "\n",
    "This cell provides the code to run the FastAPI app locally using Uvicorn."
   ]
  },
  {
   "cell_type": "code",
   "execution_count": null,
   "id": "a08aafd9",
   "metadata": {},
   "outputs": [],
   "source": [
    "# In Colab, use: !uvicorn filename:app --reload --port 8000\n",
    "if __name__ == \"__main__\":\n",
    "    import uvicorn\n",
    "    uvicorn.run(\"main:app\", host=\"0.0.0.0\", port=8000, reload=True)"
   ]
  },
  {
   "cell_type": "markdown",
   "id": "8f6a8a4e",
   "metadata": {},
   "source": [
    "### Automated API Tests\n",
    "\n",
    "This cell contains automated tests for the FastAPI endpoints using pytest and httpx. These tests cover user registration, login, authentication, restaurant search, transaction logging, and logout."
   ]
  },
  {
   "cell_type": "code",
   "execution_count": null,
   "id": "c8eefe5c",
   "metadata": {},
   "outputs": [],
   "source": [
    "# Install test dependencies\n",
    "!pip install pytest httpx"
   ]
  },
  {
   "cell_type": "code",
   "execution_count": null,
   "id": "697754ec",
   "metadata": {},
   "outputs": [],
   "source": [
    "import pytest\n",
    "from fastapi.testclient import TestClient\n",
    "\n",
    "# Import the FastAPI app from the notebook context\n",
    "try:\n",
    "    app\n",
    "except NameError:\n",
    "    from fastapi import FastAPI\n",
    "    app = FastAPI()\n",
    "\n",
    "client = TestClient(app)\n",
    "\n",
    "def test_register_and_login():\n",
    "    # Register user\n",
    "    response = client.post(\"/register\", data={\"username\": \"testuser\", \"password\": \"testpass\"})\n",
    "    assert response.status_code == 200\n",
    "\n",
    "    # Duplicate registration\n",
    "    response = client.post(\"/register\", data={\"username\": \"testuser\", \"password\": \"testpass\"})\n",
    "    assert response.status_code == 400\n",
    "\n",
    "    # Login\n",
    "    response = client.post(\"/token\", data={\"username\": \"testuser\", \"password\": \"testpass\"})\n",
    "    assert response.status_code == 200\n",
    "    token = response.json()[\"access_token\"]\n",
    "\n",
    "    # Login with wrong password\n",
    "    response = client.post(\"/token\", data={\"username\": \"testuser\", \"password\": \"wrongpass\"})\n",
    "    assert response.status_code == 400\n",
    "\n",
    "    return token\n",
    "\n",
    "def test_protected_endpoints():\n",
    "    # No token\n",
    "    response = client.get(\"/restaurants\")\n",
    "    assert response.status_code == 401\n",
    "\n",
    "    # With token\n",
    "    token = test_register_and_login()\n",
    "    headers = {\"Authorization\": f\"Bearer {token}\"}\n",
    "    response = client.get(\"/restaurants?city=London\", headers=headers)\n",
    "    assert response.status_code in [200, 404]  # 404 if city not found\n",
    "\n",
    "def test_restaurants_and_transactions():\n",
    "    token = test_register_and_login()\n",
    "    headers = {\"Authorization\": f\"Bearer {token}\"}\n",
    "\n",
    "    # Valid city\n",
    "    response = client.get(\"/restaurants?city=London\", headers=headers)\n",
    "    assert response.status_code in [200, 404]  # 404 if city not found\n",
    "    if response.status_code == 200:\n",
    "        assert isinstance(response.json(), list)\n",
    "\n",
    "    # Invalid city\n",
    "    response = client.get(\"/restaurants?city=InvalidCityName\", headers=headers)\n",
    "    assert response.status_code == 404\n",
    "\n",
    "    # Missing params\n",
    "    response = client.get(\"/restaurants\", headers=headers)\n",
    "    assert response.status_code == 400\n",
    "\n",
    "    # Transactions\n",
    "    response = client.get(\"/transactions\", headers=headers)\n",
    "    assert response.status_code == 200\n",
    "    assert isinstance(response.json(), list)\n",
    "\n",
    "def test_logout():\n",
    "    response = client.post(\"/logout\")\n",
    "    assert response.status_code == 200\n",
    "    assert \"Logout successful\" in response.json()[\"msg\"]"
   ]
  },
  {
   "cell_type": "markdown",
   "id": "f62c67cf",
   "metadata": {},
   "source": [
    "To run the tests, use the following command in a code cell:\n",
    "\n",
    "```python\n",
    "!pytest fastapi_notebook.ipynb\n",
    "```\n",
    "\n",
    "Or, if running interactively, you can call the test functions directly in a cell."
   ]
  }
 ],
 "metadata": {
  "kernelspec": {
   "display_name": "Python 3",
   "language": "python",
   "name": "python3"
  },
  "language_info": {
   "codemirror_mode": {
    "name": "ipython",
    "version": 3
   },
   "file_extension": ".py",
   "mimetype": "text/x-python",
   "name": "python",
   "nbconvert_exporter": "python",
   "pygments_lexer": "ipython3",
   "version": "3.13.3"
  }
 },
 "nbformat": 4,
 "nbformat_minor": 5
}
